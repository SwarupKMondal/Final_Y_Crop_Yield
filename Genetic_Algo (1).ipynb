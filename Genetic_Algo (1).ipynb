{
  "cells": [
    {
      "cell_type": "code",
      "execution_count": null,
      "id": "49589eb7",
      "metadata": {
        "id": "49589eb7"
      },
      "outputs": [],
      "source": [
        "\n",
        "from sklearn.model_selection import train_test_split\n",
        "from sklearn.ensemble import RandomForestClassifier\n",
        "import numpy as np\n",
        "import pandas as pd\n"
      ]
    },
    {
      "cell_type": "code",
      "execution_count": null,
      "id": "bac3d4fd",
      "metadata": {
        "id": "bac3d4fd"
      },
      "outputs": [],
      "source": [
        "data = pd.read_csv('DATA.csv')\n",
        "\n",
        "data.drop(columns=['Soil Type'], inplace=True)"
      ]
    },
    {
      "cell_type": "code",
      "execution_count": null,
      "id": "df948da2",
      "metadata": {
        "id": "df948da2",
        "outputId": "dc9373d3-1288-4d11-c8d8-d59ec719bfc0"
      },
      "outputs": [
        {
          "data": {
            "text/html": [
              "<div>\n",
              "<style scoped>\n",
              "    .dataframe tbody tr th:only-of-type {\n",
              "        vertical-align: middle;\n",
              "    }\n",
              "\n",
              "    .dataframe tbody tr th {\n",
              "        vertical-align: top;\n",
              "    }\n",
              "\n",
              "    .dataframe thead th {\n",
              "        text-align: right;\n",
              "    }\n",
              "</style>\n",
              "<table border=\"1\" class=\"dataframe\">\n",
              "  <thead>\n",
              "    <tr style=\"text-align: right;\">\n",
              "      <th></th>\n",
              "      <th>Temperature</th>\n",
              "      <th>Humidity</th>\n",
              "      <th>Solar Radiation</th>\n",
              "      <th>Soil PH</th>\n",
              "      <th>Soil Moisture</th>\n",
              "      <th>Soil Conductivity</th>\n",
              "      <th>Soil Acidity</th>\n",
              "      <th>Soil Organic Carbon Concentration</th>\n",
              "      <th>Nitrogen Concentration</th>\n",
              "      <th>Phosphorus Concentration</th>\n",
              "      <th>Potassium Concentration</th>\n",
              "      <th>Sulfur Concentration</th>\n",
              "      <th>Boron Concentration</th>\n",
              "      <th>Hg/Ha_Yield</th>\n",
              "    </tr>\n",
              "  </thead>\n",
              "  <tbody>\n",
              "    <tr>\n",
              "      <th>0</th>\n",
              "      <td>16.019008</td>\n",
              "      <td>0.706558</td>\n",
              "      <td>0.575469</td>\n",
              "      <td>6.133997</td>\n",
              "      <td>14.655450</td>\n",
              "      <td>1.030991</td>\n",
              "      <td>7.671677</td>\n",
              "      <td>1.683372</td>\n",
              "      <td>136.989968</td>\n",
              "      <td>52.033684</td>\n",
              "      <td>307.953223</td>\n",
              "      <td>42.778002</td>\n",
              "      <td>20.411476</td>\n",
              "      <td>205381</td>\n",
              "    </tr>\n",
              "    <tr>\n",
              "      <th>1</th>\n",
              "      <td>14.034575</td>\n",
              "      <td>0.636516</td>\n",
              "      <td>0.751767</td>\n",
              "      <td>6.310072</td>\n",
              "      <td>18.800678</td>\n",
              "      <td>1.261775</td>\n",
              "      <td>7.557132</td>\n",
              "      <td>1.767012</td>\n",
              "      <td>33.728710</td>\n",
              "      <td>38.782042</td>\n",
              "      <td>302.747647</td>\n",
              "      <td>30.405421</td>\n",
              "      <td>62.314854</td>\n",
              "      <td>205381</td>\n",
              "    </tr>\n",
              "    <tr>\n",
              "      <th>2</th>\n",
              "      <td>16.277304</td>\n",
              "      <td>0.808904</td>\n",
              "      <td>0.570521</td>\n",
              "      <td>6.106211</td>\n",
              "      <td>14.767593</td>\n",
              "      <td>1.911685</td>\n",
              "      <td>7.442427</td>\n",
              "      <td>1.702206</td>\n",
              "      <td>125.317830</td>\n",
              "      <td>29.725024</td>\n",
              "      <td>267.021184</td>\n",
              "      <td>16.844905</td>\n",
              "      <td>8.513405</td>\n",
              "      <td>205381</td>\n",
              "    </tr>\n",
              "    <tr>\n",
              "      <th>3</th>\n",
              "      <td>18.214798</td>\n",
              "      <td>0.615125</td>\n",
              "      <td>0.759715</td>\n",
              "      <td>7.647175</td>\n",
              "      <td>11.158573</td>\n",
              "      <td>0.803353</td>\n",
              "      <td>7.944910</td>\n",
              "      <td>1.936395</td>\n",
              "      <td>68.835645</td>\n",
              "      <td>28.266511</td>\n",
              "      <td>278.902962</td>\n",
              "      <td>68.311393</td>\n",
              "      <td>17.641894</td>\n",
              "      <td>205381</td>\n",
              "    </tr>\n",
              "    <tr>\n",
              "      <th>4</th>\n",
              "      <td>20.142697</td>\n",
              "      <td>0.799629</td>\n",
              "      <td>0.582743</td>\n",
              "      <td>7.606629</td>\n",
              "      <td>17.877961</td>\n",
              "      <td>1.197110</td>\n",
              "      <td>7.429636</td>\n",
              "      <td>1.993590</td>\n",
              "      <td>128.493538</td>\n",
              "      <td>51.186557</td>\n",
              "      <td>298.499240</td>\n",
              "      <td>44.369302</td>\n",
              "      <td>59.986272</td>\n",
              "      <td>205381</td>\n",
              "    </tr>\n",
              "    <tr>\n",
              "      <th>...</th>\n",
              "      <td>...</td>\n",
              "      <td>...</td>\n",
              "      <td>...</td>\n",
              "      <td>...</td>\n",
              "      <td>...</td>\n",
              "      <td>...</td>\n",
              "      <td>...</td>\n",
              "      <td>...</td>\n",
              "      <td>...</td>\n",
              "      <td>...</td>\n",
              "      <td>...</td>\n",
              "      <td>...</td>\n",
              "      <td>...</td>\n",
              "      <td>...</td>\n",
              "    </tr>\n",
              "    <tr>\n",
              "      <th>3097</th>\n",
              "      <td>14.923655</td>\n",
              "      <td>0.808211</td>\n",
              "      <td>0.644018</td>\n",
              "      <td>7.911615</td>\n",
              "      <td>15.161781</td>\n",
              "      <td>0.621115</td>\n",
              "      <td>7.018767</td>\n",
              "      <td>1.973212</td>\n",
              "      <td>98.324362</td>\n",
              "      <td>62.197481</td>\n",
              "      <td>244.723087</td>\n",
              "      <td>57.522678</td>\n",
              "      <td>35.041828</td>\n",
              "      <td>10209</td>\n",
              "    </tr>\n",
              "    <tr>\n",
              "      <th>3098</th>\n",
              "      <td>21.744296</td>\n",
              "      <td>0.679871</td>\n",
              "      <td>0.652020</td>\n",
              "      <td>7.259804</td>\n",
              "      <td>18.104008</td>\n",
              "      <td>1.982461</td>\n",
              "      <td>6.893600</td>\n",
              "      <td>1.942452</td>\n",
              "      <td>89.002583</td>\n",
              "      <td>51.000423</td>\n",
              "      <td>253.836713</td>\n",
              "      <td>69.134860</td>\n",
              "      <td>28.120857</td>\n",
              "      <td>10209</td>\n",
              "    </tr>\n",
              "    <tr>\n",
              "      <th>3099</th>\n",
              "      <td>18.774408</td>\n",
              "      <td>0.685829</td>\n",
              "      <td>0.627296</td>\n",
              "      <td>7.199878</td>\n",
              "      <td>14.314745</td>\n",
              "      <td>1.166337</td>\n",
              "      <td>7.886027</td>\n",
              "      <td>1.904691</td>\n",
              "      <td>73.466529</td>\n",
              "      <td>35.358797</td>\n",
              "      <td>246.297602</td>\n",
              "      <td>35.928245</td>\n",
              "      <td>8.765288</td>\n",
              "      <td>10209</td>\n",
              "    </tr>\n",
              "    <tr>\n",
              "      <th>3100</th>\n",
              "      <td>20.934038</td>\n",
              "      <td>0.752310</td>\n",
              "      <td>0.563034</td>\n",
              "      <td>8.002715</td>\n",
              "      <td>11.091009</td>\n",
              "      <td>1.589724</td>\n",
              "      <td>7.691400</td>\n",
              "      <td>1.825991</td>\n",
              "      <td>53.268551</td>\n",
              "      <td>29.828274</td>\n",
              "      <td>316.076060</td>\n",
              "      <td>23.231424</td>\n",
              "      <td>34.457252</td>\n",
              "      <td>10415</td>\n",
              "    </tr>\n",
              "    <tr>\n",
              "      <th>3101</th>\n",
              "      <td>20.611984</td>\n",
              "      <td>0.772447</td>\n",
              "      <td>0.685276</td>\n",
              "      <td>6.616933</td>\n",
              "      <td>14.684125</td>\n",
              "      <td>1.795586</td>\n",
              "      <td>6.223386</td>\n",
              "      <td>1.727208</td>\n",
              "      <td>43.703818</td>\n",
              "      <td>54.699086</td>\n",
              "      <td>195.318973</td>\n",
              "      <td>34.820996</td>\n",
              "      <td>47.145802</td>\n",
              "      <td>10415</td>\n",
              "    </tr>\n",
              "  </tbody>\n",
              "</table>\n",
              "<p>3102 rows × 14 columns</p>\n",
              "</div>"
            ],
            "text/plain": [
              "      Temperature  Humidity  Solar Radiation   Soil PH  Soil Moisture  \\\n",
              "0       16.019008  0.706558         0.575469  6.133997      14.655450   \n",
              "1       14.034575  0.636516         0.751767  6.310072      18.800678   \n",
              "2       16.277304  0.808904         0.570521  6.106211      14.767593   \n",
              "3       18.214798  0.615125         0.759715  7.647175      11.158573   \n",
              "4       20.142697  0.799629         0.582743  7.606629      17.877961   \n",
              "...           ...       ...              ...       ...            ...   \n",
              "3097    14.923655  0.808211         0.644018  7.911615      15.161781   \n",
              "3098    21.744296  0.679871         0.652020  7.259804      18.104008   \n",
              "3099    18.774408  0.685829         0.627296  7.199878      14.314745   \n",
              "3100    20.934038  0.752310         0.563034  8.002715      11.091009   \n",
              "3101    20.611984  0.772447         0.685276  6.616933      14.684125   \n",
              "\n",
              "      Soil Conductivity  Soil Acidity  Soil Organic Carbon Concentration  \\\n",
              "0              1.030991      7.671677                           1.683372   \n",
              "1              1.261775      7.557132                           1.767012   \n",
              "2              1.911685      7.442427                           1.702206   \n",
              "3              0.803353      7.944910                           1.936395   \n",
              "4              1.197110      7.429636                           1.993590   \n",
              "...                 ...           ...                                ...   \n",
              "3097           0.621115      7.018767                           1.973212   \n",
              "3098           1.982461      6.893600                           1.942452   \n",
              "3099           1.166337      7.886027                           1.904691   \n",
              "3100           1.589724      7.691400                           1.825991   \n",
              "3101           1.795586      6.223386                           1.727208   \n",
              "\n",
              "      Nitrogen Concentration  Phosphorus Concentration  \\\n",
              "0                 136.989968                 52.033684   \n",
              "1                  33.728710                 38.782042   \n",
              "2                 125.317830                 29.725024   \n",
              "3                  68.835645                 28.266511   \n",
              "4                 128.493538                 51.186557   \n",
              "...                      ...                       ...   \n",
              "3097               98.324362                 62.197481   \n",
              "3098               89.002583                 51.000423   \n",
              "3099               73.466529                 35.358797   \n",
              "3100               53.268551                 29.828274   \n",
              "3101               43.703818                 54.699086   \n",
              "\n",
              "      Potassium Concentration  Sulfur Concentration  Boron Concentration  \\\n",
              "0                  307.953223             42.778002            20.411476   \n",
              "1                  302.747647             30.405421            62.314854   \n",
              "2                  267.021184             16.844905             8.513405   \n",
              "3                  278.902962             68.311393            17.641894   \n",
              "4                  298.499240             44.369302            59.986272   \n",
              "...                       ...                   ...                  ...   \n",
              "3097               244.723087             57.522678            35.041828   \n",
              "3098               253.836713             69.134860            28.120857   \n",
              "3099               246.297602             35.928245             8.765288   \n",
              "3100               316.076060             23.231424            34.457252   \n",
              "3101               195.318973             34.820996            47.145802   \n",
              "\n",
              "      Hg/Ha_Yield  \n",
              "0          205381  \n",
              "1          205381  \n",
              "2          205381  \n",
              "3          205381  \n",
              "4          205381  \n",
              "...           ...  \n",
              "3097        10209  \n",
              "3098        10209  \n",
              "3099        10209  \n",
              "3100        10415  \n",
              "3101        10415  \n",
              "\n",
              "[3102 rows x 14 columns]"
            ]
          },
          "execution_count": 49,
          "metadata": {},
          "output_type": "execute_result"
        }
      ],
      "source": [
        "data"
      ]
    },
    {
      "cell_type": "code",
      "execution_count": null,
      "id": "8f509c9e",
      "metadata": {
        "id": "8f509c9e"
      },
      "outputs": [],
      "source": [
        "X = data.drop(columns=[\"Hg/Ha_Yield\"]).values\n",
        "y = data[\"Hg/Ha_Yield\"].values"
      ]
    },
    {
      "cell_type": "code",
      "execution_count": null,
      "id": "445ef23c",
      "metadata": {
        "id": "445ef23c"
      },
      "outputs": [],
      "source": [
        "X_train, X_test, y_train, y_test = train_test_split(X, y, test_size=0.2, random_state=42)\n"
      ]
    },
    {
      "cell_type": "code",
      "execution_count": null,
      "id": "0fada236",
      "metadata": {
        "id": "0fada236"
      },
      "outputs": [],
      "source": [
        "def fitness(features):\n",
        "    X_train_subset = X_train[:, features]\n",
        "    X_test_subset = X_test[:, features]\n",
        "    clf = RandomForestClassifier(random_state=42)\n",
        "    clf.fit(X_train_subset, y_train)\n",
        "    return clf.score(X_test_subset, y_test)"
      ]
    },
    {
      "cell_type": "code",
      "execution_count": null,
      "id": "5177def4",
      "metadata": {
        "id": "5177def4"
      },
      "outputs": [],
      "source": [
        "population_size = 10\n",
        "num_generations = 20\n",
        "mutation_rate = 0.1"
      ]
    },
    {
      "cell_type": "code",
      "execution_count": null,
      "id": "c444ab54",
      "metadata": {
        "id": "c444ab54"
      },
      "outputs": [],
      "source": [
        "population = np.random.randint(2, size=(population_size, X.shape[1]))\n"
      ]
    },
    {
      "cell_type": "code",
      "execution_count": null,
      "id": "275763a4",
      "metadata": {
        "id": "275763a4"
      },
      "outputs": [],
      "source": [
        "fitness_scores = [fitness(features) for features in population]\n"
      ]
    },
    {
      "cell_type": "code",
      "execution_count": null,
      "id": "c8dea7fe",
      "metadata": {
        "id": "c8dea7fe"
      },
      "outputs": [],
      "source": [
        "best_fitness_per_generation = []\n",
        "\n",
        "for generation in range(num_generations):\n",
        "    # Select the parents for crossover\n",
        "    parent_indices = np.random.choice(population_size, size=population_size, replace=True, p=fitness_scores/np.sum(fitness_scores))\n",
        "    parents = population[parent_indices]\n",
        "\n",
        "    # Perform crossover to create the children\n",
        "    children = np.empty_like(parents)\n",
        "    for i in range(population_size):\n",
        "        parent1 = parents[i]\n",
        "        parent2 = parents[np.random.randint(population_size)]\n",
        "        crossover_point = np.random.randint(1, X.shape[1]-1)\n",
        "        child = np.concatenate((parent1[:crossover_point], parent2[crossover_point:]))\n",
        "        children[i] = child\n",
        "\n",
        "    # Perform mutation on some of the children\n",
        "    for i in range(population_size):\n",
        "        if np.random.rand() < mutation_rate:\n",
        "            mutation_point = np.random.randint(X.shape[1])\n",
        "            children[i, mutation_point] = 1 - children[i, mutation_point]\n",
        "\n",
        "    # Evaluate the fitness of the children\n",
        "    children_fitness_scores = [fitness(features) for features in children]\n",
        "\n",
        "    # Store the best fitness score of this generation\n",
        "    best_fitness_per_generation.append(max(children_fitness_scores))\n",
        "\n",
        "    # Replace the old population with the new population of children\n",
        "    population = children\n",
        "    fitness_scores = children_fitness_scores\n"
      ]
    },
    {
      "cell_type": "code",
      "execution_count": null,
      "id": "344d83c8",
      "metadata": {
        "id": "344d83c8"
      },
      "outputs": [],
      "source": [
        "average_fitness_scores = []\n",
        "\n",
        "# Iterate through the generations\n",
        "for generation in range(num_generations):\n",
        "    # Select the parents for crossover\n",
        "    parent_indices = np.random.choice(population_size, size=population_size, replace=True, p=fitness_scores/np.sum(fitness_scores))\n",
        "    parents = population[parent_indices]\n",
        "\n",
        "    # Perform crossover to create the children\n",
        "    children = np.empty_like(parents)\n",
        "    for i in range(population_size):\n",
        "        parent1 = parents[i]\n",
        "        parent2 = parents[np.random.randint(population_size)]\n",
        "        crossover_point = np.random.randint(1, X.shape[1]-1)\n",
        "        child = np.concatenate((parent1[:crossover_point], parent2[crossover_point:]))\n",
        "        children[i] = child\n",
        "\n",
        "    # Perform mutation on some of the children\n",
        "    for i in range(population_size):\n",
        "        if np.random.rand() < mutation_rate:\n",
        "            mutation_point = np.random.randint(X.shape[1])\n",
        "            children[i, mutation_point] = 1 - children[i, mutation_point]\n",
        "\n",
        "    # Evaluate the fitness of the children\n",
        "    children_fitness_scores = [fitness(features) for features in children]\n",
        "\n",
        "    # Replace the old population with the new population of children\n",
        "    population = children\n",
        "    fitness_scores = children_fitness_scores\n",
        "\n",
        "    # Calculate the average fitness score for this generation\n",
        "    average_fitness = np.mean(children_fitness_scores)\n",
        "    average_fitness_scores.append(average_fitness)\n",
        "\n",
        "# Select the best feature subset from the final population\n",
        "best_features = population[np.argmax(fitness_scores)]"
      ]
    },
    {
      "cell_type": "code",
      "execution_count": null,
      "id": "304a09f7",
      "metadata": {
        "id": "304a09f7",
        "outputId": "a657bc9b-92d2-4639-c134-af6c28ae3976"
      },
      "outputs": [
        {
          "name": "stdout",
          "output_type": "stream",
          "text": [
            "Selected features:  [1 0 0 0 0 0 0 0 0 0 1 1 0]\n"
          ]
        }
      ],
      "source": [
        "print(\"Selected features: \", best_features)\n"
      ]
    },
    {
      "cell_type": "code",
      "execution_count": null,
      "id": "658a4079",
      "metadata": {
        "id": "658a4079",
        "outputId": "5f076b18-eb0b-4c06-f3ee-acc7249f6051"
      },
      "outputs": [
        {
          "name": "stdout",
          "output_type": "stream",
          "text": [
            "[0.014492753623188406, 0.014492753623188406, 0.014492753623188406, 0.014492753623188406, 0.01288244766505636, 0.014492753623188406, 0.011272141706924315, 0.01288244766505636, 0.011272141706924315, 0.014492753623188406]\n"
          ]
        }
      ],
      "source": [
        "print(fitness_scores)"
      ]
    },
    {
      "cell_type": "code",
      "execution_count": null,
      "id": "5b6a2d92",
      "metadata": {
        "id": "5b6a2d92",
        "outputId": "a542d757-4cf4-497b-e65f-c8debfd79db1"
      },
      "outputs": [
        {
          "name": "stdout",
          "output_type": "stream",
          "text": [
            "[0.011433172302737517, 0.01111111111111111, 0.012721417069243157, 0.012077294685990338, 0.01143317230273752, 0.012560386473429951, 0.012560386473429951, 0.013365539452495972, 0.013365539452495976, 0.013687600644122383, 0.012238325281803544, 0.012238325281803544, 0.01320450885668277, 0.012077294685990338, 0.01320450885668277, 0.014170692431561998, 0.014009661835748793, 0.013687600644122383, 0.012721417069243155, 0.013526570048309178]\n"
          ]
        }
      ],
      "source": [
        "print(average_fitness_scores)"
      ]
    },
    {
      "cell_type": "code",
      "execution_count": null,
      "id": "aac2c071",
      "metadata": {
        "id": "aac2c071",
        "outputId": "ec49a204-eba9-4881-c536-f6ae68128a5a"
      },
      "outputs": [
        {
          "name": "stdout",
          "output_type": "stream",
          "text": [
            "[0.014492753623188406, 0.014492753623188406, 0.01288244766505636, 0.01288244766505636, 0.01288244766505636, 0.01288244766505636, 0.011272141706924315, 0.014492753623188406, 0.014492753623188406, 0.014492753623188406, 0.014492753623188406, 0.01610305958132045, 0.014492753623188406, 0.017713365539452495, 0.014492753623188406, 0.014492753623188406, 0.014492753623188406, 0.014492753623188406, 0.014492753623188406, 0.014492753623188406]\n"
          ]
        }
      ],
      "source": [
        "print(best_fitness_per_generation)"
      ]
    },
    {
      "cell_type": "code",
      "execution_count": null,
      "id": "0eeaf67b",
      "metadata": {
        "id": "0eeaf67b",
        "outputId": "d4e50166-3858-4e4d-88ce-37d9d794462e"
      },
      "outputs": [
        {
          "data": {
            "image/png": "[encoded data removed]",
            "text/plain": [
              "<Figure size 432x288 with 1 Axes>"
            ]
          },
          "metadata": {
            "needs_background": "light"
          },
          "output_type": "display_data"
        }
      ],
      "source": [
        "import matplotlib.pyplot as plt\n",
        "\n",
        "plt.plot(range(1, len(fitness_scores) + 1), fitness_scores, marker='o', label='Best Fitness Score')\n",
        "plt.xlabel('Generation')\n",
        "plt.ylabel('Fitness Score')\n",
        "plt.title('Generation vs Best Fitness Score Genetic Algo')\n",
        "plt.legend()\n",
        "plt.grid(True)\n",
        "plt.show()"
      ]
    },
    {
      "cell_type": "code",
      "execution_count": null,
      "id": "d0120f02",
      "metadata": {
        "id": "d0120f02"
      },
      "outputs": [],
      "source": []
    },
    {
      "cell_type": "code",
      "execution_count": null,
      "id": "d7cd760a",
      "metadata": {
        "id": "d7cd760a"
      },
      "outputs": [],
      "source": []
    }
  ],
  "metadata": {
    "kernelspec": {
      "display_name": "Python 3",
      "language": "python",
      "name": "python3"
    },
    "language_info": {
      "codemirror_mode": {
        "name": "ipython",
        "version": 3
      },
      "file_extension": ".py",
      "mimetype": "text/x-python",
      "name": "python",
      "nbconvert_exporter": "python",
      "pygments_lexer": "ipython3",
      "version": "3.8.8"
    },
    "colab": {
      "provenance": []
    }
  },
  "nbformat": 4,
  "nbformat_minor": 5
}