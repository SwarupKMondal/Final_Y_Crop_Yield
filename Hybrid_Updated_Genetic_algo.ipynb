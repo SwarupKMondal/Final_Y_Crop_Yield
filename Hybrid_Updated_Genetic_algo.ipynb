{
  "cells": [
    {
      "cell_type": "code",
      "execution_count": null,
      "id": "14643127",
      "metadata": {
        "id": "14643127"
      },
      "outputs": [],
      "source": [
        "import numpy as np\n",
        "import pandas as pd\n",
        "from sklearn.model_selection import train_test_split\n",
        "from sklearn.ensemble import RandomForestClassifier\n",
        "from sklearn.metrics import accuracy_score\n"
      ]
    },
    {
      "cell_type": "code",
      "execution_count": null,
      "id": "90fa2529",
      "metadata": {
        "id": "90fa2529"
      },
      "outputs": [],
      "source": [
        "# Load your dataset\n",
        "data = pd.read_csv('DATA.csv')\n",
        "data.drop(columns=['Soil Type'], inplace=True)"
      ]
    },
    {
      "cell_type": "code",
      "execution_count": null,
      "id": "e8dd7a5f",
      "metadata": {
        "id": "e8dd7a5f"
      },
      "outputs": [],
      "source": [
        "# Define the features and target variable\n",
        "X = data.drop(columns=[\"Hg/Ha_Yield\"]).values\n",
        "y = data[\"Hg/Ha_Yield\"].values\n"
      ]
    },
    {
      "cell_type": "code",
      "execution_count": null,
      "id": "964a1768",
      "metadata": {
        "id": "964a1768"
      },
      "outputs": [],
      "source": [
        "X_train, X_test, y_train, y_test = train_test_split(X, y, test_size=0.2, random_state=42)\n"
      ]
    },
    {
      "cell_type": "code",
      "execution_count": null,
      "id": "4d6eab6c",
      "metadata": {
        "id": "4d6eab6c"
      },
      "outputs": [],
      "source": [
        "def fitness(features):\n",
        "    X_train_subset = X_train[:, features]\n",
        "    X_test_subset = X_test[:, features]\n",
        "    clf = RandomForestClassifier(random_state=42)\n",
        "    clf.fit(X_train_subset, y_train)\n",
        "    return accuracy_score(y_test, clf.predict(X_test_subset))"
      ]
    },
    {
      "cell_type": "code",
      "execution_count": null,
      "id": "7cb5a423",
      "metadata": {
        "id": "7cb5a423"
      },
      "outputs": [],
      "source": [
        "def hybrid_genetic_algorithm(population_size=10, num_generations=20, mutation_rate=0.1, crossover_rate=0.8):\n",
        "    # Initialize population using Latin Hypercube Sampling\n",
        "    population = latin_hypercube_sampling(population_size, X.shape[1])\n",
        "\n",
        "    best_fitness_scores = []\n",
        "    best_solution = None\n",
        "    best_fitness = 0\n",
        "    selected_features = []\n",
        "\n",
        "    for generation in range(num_generations):\n",
        "        # Evaluate fitness of each individual in the population\n",
        "        fitness_scores = [fitness(features) for features in population]\n",
        "\n",
        "        # Preserve elite individuals\n",
        "        elite_indices = np.argsort(fitness_scores)[-2:]\n",
        "        elites = [(population[i], fitness_scores[i]) for i in elite_indices]\n",
        "\n",
        "        # Update best solution found so far\n",
        "        max_fitness_index = np.argmax(fitness_scores)\n",
        "        if fitness_scores[max_fitness_index] > best_fitness:\n",
        "            best_solution = population[max_fitness_index]\n",
        "            best_fitness = fitness_scores[max_fitness_index]\n",
        "\n",
        "        # Scale fitness scores\n",
        "        scaled_fitness_scores = scale_fitness(fitness_scores)\n",
        "\n",
        "        # Select parents for crossover\n",
        "        parent_indices = select_parents(scaled_fitness_scores, population_size)\n",
        "        parents = [population[i] for i in parent_indices]\n",
        "\n",
        "        # Generate offspring using crossover\n",
        "        children = []\n",
        "        for i in range(0, population_size - len(elites), 2):\n",
        "            parent1, parent2 = parents[i], parents[i + 1]\n",
        "            child1, child2 = crossover(parent1, parent2, crossover_rate)\n",
        "            children.extend([child1, child2])\n",
        "\n",
        "        # Apply mutation\n",
        "        for i in range(len(children)):\n",
        "            children[i] = mutate(children[i], mutation_rate)\n",
        "\n",
        "        # Combine elites and children to form new population\n",
        "        population = [elite[0] for elite in elites] + children\n",
        "\n",
        "        # Record best fitness score of current generation\n",
        "        best_fitness_scores.append(max(fitness_scores))\n",
        "\n",
        "        # Record selected features of the best solution\n",
        "        if max_fitness_index is not None:\n",
        "            selected_features.append(population[max_fitness_index])\n",
        "\n",
        "    return best_solution, best_fitness_scores, selected_features"
      ]
    },
    {
      "cell_type": "code",
      "execution_count": null,
      "id": "50a67056",
      "metadata": {
        "id": "50a67056"
      },
      "outputs": [],
      "source": [
        "def latin_hypercube_sampling(population_size, num_features):\n",
        "    population = []\n",
        "    for _ in range(population_size):\n",
        "        sample = np.random.permutation(num_features)\n",
        "        population.append(sample)\n",
        "    return population\n"
      ]
    },
    {
      "cell_type": "code",
      "execution_count": null,
      "id": "140c69c7",
      "metadata": {
        "id": "140c69c7"
      },
      "outputs": [],
      "source": [
        "def scale_fitness(fitness_scores):\n",
        "    return np.array(fitness_scores) / sum(fitness_scores)\n",
        "\n",
        "# Function to select parents for crossover\n",
        "def select_parents(scaled_fitness_scores, population_size):\n",
        "    return np.random.choice(range(len(scaled_fitness_scores)), size=population_size, p=scaled_fitness_scores)"
      ]
    },
    {
      "cell_type": "code",
      "execution_count": null,
      "id": "d5459bbd",
      "metadata": {
        "id": "d5459bbd"
      },
      "outputs": [],
      "source": [
        "def crossover(parent1, parent2, crossover_rate):\n",
        "    if np.random.rand() < crossover_rate:\n",
        "        crossover_point = np.random.randint(1, len(parent1))\n",
        "        child1 = np.hstack((parent1[:crossover_point], parent2[crossover_point:]))\n",
        "        child2 = np.hstack((parent2[:crossover_point], parent1[crossover_point:]))\n",
        "        return child1, child2\n",
        "    else:\n",
        "        return parent1, parent2"
      ]
    },
    {
      "cell_type": "code",
      "execution_count": null,
      "id": "abddd553",
      "metadata": {
        "id": "abddd553"
      },
      "outputs": [],
      "source": [
        "# Function for mutation\n",
        "def mutate(individual, mutation_rate):\n",
        "    for i in range(len(individual)):\n",
        "        if np.random.rand() < mutation_rate:\n",
        "            individual[i] = 1 - individual[i]\n",
        "    return individual"
      ]
    },
    {
      "cell_type": "code",
      "execution_count": null,
      "id": "7f010841",
      "metadata": {
        "id": "7f010841"
      },
      "outputs": [],
      "source": [
        "best_solution, best_fitness_scores, selected_features = hybrid_genetic_algorithm(population_size=10, num_generations=20, mutation_rate=0.1, crossover_rate=0.8)\n"
      ]
    },
    {
      "cell_type": "code",
      "execution_count": null,
      "id": "0ea178d0",
      "metadata": {
        "id": "0ea178d0",
        "outputId": "e02629e8-9667-4d02-b08b-400bed2d54f2"
      },
      "outputs": [
        {
          "name": "stdout",
          "output_type": "stream",
          "text": [
            "Best solution: [  7   2 -11   4  -1   0  -9   8   9   5 -10  -6   1]\n",
            "Best fitness: 0.01610305958132045\n",
            "Average fitness score: 0.014734299516908213\n",
            "Selected features: [array([ 1,  2,  5, 12,  0,  9,  8, 10, 11,  7,  6,  3,  4]), array([ 7,  2, 12,  5, -1, -9,  1,  1,  9,  7, 11,  6, -7]), array([-6,  2, 12,  4,  2,  0, 10,  8,  9,  5, 11, -6,  1]), array([-6,  2, 12,  4,  2,  0, 10,  8,  9,  5, 11,  7,  1]), array([-6,  2, 12,  4,  2,  0, 10,  8,  9,  5, 11,  7,  1]), array([-6,  2, 12,  4,  2,  0, 10,  8,  9,  5, 11, -6,  1]), array([-6,  2, 12,  4,  2,  0, 10,  8,  9,  5, 11,  7,  1]), array([-6,  2, 12,  4,  2,  0, 10,  8,  9,  5, 11, -6,  1]), array([-6,  2, 12,  4,  2,  0, 10,  8,  9,  5, 11, -6,  1]), array([-6,  2, 12,  4,  2,  0, 10,  8,  9,  5, 11,  7,  1]), array([ 7,  2, 12,  4,  2,  0, 10,  8,  9,  5, 11, -6,  1]), array([ 7,  2, 12,  4,  2,  0, 10,  8,  9,  5, 11, -6,  1]), array([  7,   2, -11,   4,   2,   0,  -9,   8,   9,   5, -10,  -6,   1]), array([-6,  2, 12,  4,  2,  0, 10,  8,  9,  5, 11,  7,  1]), array([ -6,   2, -11,   4,  -1,   0,  -9,  -7,   9,   5,  11,  -6,   1]), array([  7,   2, -11,   4,  -1,   0,  -9,   8,   9,   5, -10,  -6,   1]), array([  7,   2, -11,   4,  -1,   0,  -9,   8,   9,   5, -10,  -6,   1]), array([  7,   2, -11,   4,  -1,   0,  -9,   8,   9,   5, -10,  -6,   1]), array([  7,   2, -11,   4,  -1,   0,  -9,   8,   9,   5, -10,  -6,   1]), array([  7,   2, -11,   4,  -1,   0,  -9,   8,   9,   5, -10,  -6,   1])]\n",
            "Fitness scores: [0.00966183574879227, 0.014492753623188406, 0.014492753623188406, 0.014492753623188406, 0.014492753623188406, 0.014492753623188406, 0.014492753623188406, 0.014492753623188406, 0.014492753623188406, 0.014492753623188406, 0.014492753623188406, 0.014492753623188406, 0.014492753623188406, 0.014492753623188406, 0.01610305958132045, 0.01610305958132045, 0.01610305958132045, 0.01610305958132045, 0.01610305958132045, 0.01610305958132045]\n"
          ]
        }
      ],
      "source": [
        "avg_fitness_score = sum(best_fitness_scores) / len(best_fitness_scores)\n",
        "\n",
        "# Print the best solution found\n",
        "print(\"Best solution:\", best_solution)\n",
        "print(\"Best fitness:\", max(best_fitness_scores))\n",
        "print(\"Average fitness score:\", avg_fitness_score)\n",
        "\n",
        "# Print selected features and their fitness scores\n",
        "print(\"Selected features:\", selected_features)\n",
        "print(\"Fitness scores:\", best_fitness_scores)"
      ]
    },
    {
      "cell_type": "code",
      "execution_count": null,
      "id": "a6050332",
      "metadata": {
        "id": "a6050332",
        "outputId": "366c3654-d4ac-480e-a1e1-fc1d286831af"
      },
      "outputs": [
        {
          "data": {
            "image/png": "[encoded data removed]",
            "text/plain": [
              "<Figure size 432x288 with 1 Axes>"
            ]
          },
          "metadata": {
            "needs_background": "light"
          },
          "output_type": "display_data"
        }
      ],
      "source": [
        "import matplotlib.pyplot as plt\n",
        "\n",
        "plt.plot(range(1, len(best_fitness_scores) + 1), best_fitness_scores, label='Best Fitness Score')\n",
        "plt.xlabel('Generation')\n",
        "plt.ylabel('Fitness Score')\n",
        "plt.title('Generation vs Best Fitness Score Hybrid GA')\n",
        "plt.legend()\n",
        "plt.show()"
      ]
    },
    {
      "cell_type": "code",
      "execution_count": null,
      "id": "b776eb33",
      "metadata": {
        "id": "b776eb33"
      },
      "outputs": [],
      "source": []
    }
  ],
  "metadata": {
    "kernelspec": {
      "display_name": "Python 3",
      "language": "python",
      "name": "python3"
    },
    "language_info": {
      "codemirror_mode": {
        "name": "ipython",
        "version": 3
      },
      "file_extension": ".py",
      "mimetype": "text/x-python",
      "name": "python",
      "nbconvert_exporter": "python",
      "pygments_lexer": "ipython3",
      "version": "3.8.8"
    },
    "colab": {
      "provenance": []
    }
  },
  "nbformat": 4,
  "nbformat_minor": 5
}